{
 "cells": [
  {
   "cell_type": "code",
   "execution_count": 16,
   "metadata": {},
   "outputs": [],
   "source": [
    "#colour values\n",
    "r = 1\n",
    "bk = 7\n",
    "p = 6\n",
    "bl = 5\n",
    "br = 4\n",
    "gr = 3\n",
    "y = 2\n",
    "\n",
    "rem_points = 147\n",
    "score = 0"
   ]
  },
  {
   "cell_type": "code",
   "execution_count": null,
   "metadata": {},
   "outputs": [
    {
     "name": "stdout",
     "output_type": "stream",
     "text": [
      "r = red, bk = black, p = pink, bl = blue, br= brown, gr = green, y = yellow\n",
      "select the colour r\n",
      "The colour you selected is r\n",
      "current score is 1\n",
      "remaining points on the table is 146\n",
      "r = red, bk = black, p = pink, bl = blue, br= brown, gr = green, y = yellow\n",
      "select the colour bk\n",
      "The colour you selected is bk\n",
      "current score is 8\n",
      "remaining points on the table is 139\n",
      "r = red, bk = black, p = pink, bl = blue, br= brown, gr = green, y = yellow\n",
      "select the colour r\n",
      "The colour you selected is r\n",
      "current score is 9\n",
      "remaining points on the table is 138\n",
      "r = red, bk = black, p = pink, bl = blue, br= brown, gr = green, y = yellow\n",
      "select the colour bk\n",
      "The colour you selected is bk\n",
      "current score is 16\n",
      "remaining points on the table is 131\n",
      "r = red, bk = black, p = pink, bl = blue, br= brown, gr = green, y = yellow\n",
      "select the colour r\n",
      "The colour you selected is r\n",
      "current score is 17\n",
      "remaining points on the table is 130\n",
      "r = red, bk = black, p = pink, bl = blue, br= brown, gr = green, y = yellow\n",
      "select the colour bk\n",
      "The colour you selected is bk\n",
      "current score is 24\n",
      "remaining points on the table is 123\n",
      "r = red, bk = black, p = pink, bl = blue, br= brown, gr = green, y = yellow\n",
      "select the colour r\n",
      "The colour you selected is r\n",
      "current score is 25\n",
      "remaining points on the table is 122\n",
      "r = red, bk = black, p = pink, bl = blue, br= brown, gr = green, y = yellow\n",
      "select the colour bk\n",
      "The colour you selected is bk\n",
      "current score is 32\n",
      "remaining points on the table is 115\n",
      "r = red, bk = black, p = pink, bl = blue, br= brown, gr = green, y = yellow\n",
      "select the colour r\n",
      "The colour you selected is r\n",
      "current score is 33\n",
      "remaining points on the table is 114\n",
      "r = red, bk = black, p = pink, bl = blue, br= brown, gr = green, y = yellow\n",
      "select the colour bk\n",
      "The colour you selected is bk\n",
      "current score is 40\n",
      "remaining points on the table is 107\n",
      "r = red, bk = black, p = pink, bl = blue, br= brown, gr = green, y = yellow\n",
      "select the colour r\n",
      "The colour you selected is r\n",
      "current score is 41\n",
      "remaining points on the table is 106\n",
      "r = red, bk = black, p = pink, bl = blue, br= brown, gr = green, y = yellow\n",
      "select the colour bk\n",
      "The colour you selected is bk\n",
      "current score is 48\n",
      "remaining points on the table is 99\n",
      "r = red, bk = black, p = pink, bl = blue, br= brown, gr = green, y = yellow\n",
      "select the colour r\n",
      "The colour you selected is r\n",
      "current score is 49\n",
      "remaining points on the table is 98\n",
      "r = red, bk = black, p = pink, bl = blue, br= brown, gr = green, y = yellow\n",
      "select the colour bk\n",
      "The colour you selected is bk\n",
      "current score is 56\n",
      "remaining points on the table is 91\n",
      "r = red, bk = black, p = pink, bl = blue, br= brown, gr = green, y = yellow\n",
      "select the colour r\n",
      "The colour you selected is r\n",
      "current score is 57\n",
      "remaining points on the table is 90\n",
      "r = red, bk = black, p = pink, bl = blue, br= brown, gr = green, y = yellow\n",
      "select the colour bk\n",
      "The colour you selected is bk\n",
      "current score is 64\n",
      "remaining points on the table is 83\n",
      "r = red, bk = black, p = pink, bl = blue, br= brown, gr = green, y = yellow\n",
      "select the colour r\n",
      "The colour you selected is r\n",
      "current score is 65\n",
      "remaining points on the table is 82\n",
      "r = red, bk = black, p = pink, bl = blue, br= brown, gr = green, y = yellow\n",
      "select the colour bk\n",
      "The colour you selected is bk\n",
      "current score is 72\n",
      "remaining points on the table is 75\n",
      "r = red, bk = black, p = pink, bl = blue, br= brown, gr = green, y = yellow\n",
      "select the colour r\n",
      "The colour you selected is r\n",
      "current score is 73\n",
      "remaining points on the table is 74\n",
      "r = red, bk = black, p = pink, bl = blue, br= brown, gr = green, y = yellow\n",
      "select the colour bk\n",
      "The colour you selected is bk\n",
      "current score is 80\n",
      "remaining points on the table is 67\n",
      "Player 2 needs snookers to win\n",
      "r = red, bk = black, p = pink, bl = blue, br= brown, gr = green, y = yellow\n",
      "select the colour r\n",
      "The colour you selected is r\n",
      "current score is 81\n",
      "remaining points on the table is 66\n",
      "Player 2 needs snookers to win\n",
      "r = red, bk = black, p = pink, bl = blue, br= brown, gr = green, y = yellow\n"
     ]
    }
   ],
   "source": [
    "while not score > 147:\n",
    "    print(\"r = red, bk = black, p = pink, bl = blue, br= brown, gr = green, y = yellow\")\n",
    "    colour = input(\"select the colour \")\n",
    "\n",
    "    print(\"The colour you selected is {}\".format(colour))\n",
    "\n",
    "    if colour == \"r\":\n",
    "        score+=1\n",
    "        rem_points-=1\n",
    "    elif colour == \"bk\":\n",
    "        score+=7 \n",
    "        rem_points-=7\n",
    "    elif colour == \"p\":\n",
    "        score+=6 \n",
    "        rem_points-=7\n",
    "    elif colour == \"bl\":\n",
    "        score+=5 \n",
    "        rem_points-=7\n",
    "    elif colour == \"br\":\n",
    "        score+=4\n",
    "        rem_points-=7\n",
    "    elif colour == \"gr\":\n",
    "        score+=3\n",
    "        rem_points-=7\n",
    "    elif colour == \"y\":\n",
    "        score+=2\n",
    "        rem_points-=7\n",
    "        \n",
    "    print(\"current score is \" + str(score))\n",
    "    print(\"remaining points on the table is \" + str(rem_points))\n",
    "    \n",
    "    if score>rem_points:\n",
    "        print(\"Player 2 needs snookers to win\")\n",
    "    else:\n",
    "        pass\n",
    "        \n",
    "else:\n",
    "    print(\"No more pottable balls\")"
   ]
  },
  {
   "cell_type": "code",
   "execution_count": null,
   "metadata": {},
   "outputs": [],
   "source": [
    "#number of points remaining on the table is 147 initially \n",
    "\n",
    "#after every shot \n",
    "# 1. score = score + value of the colour\n",
    "# 2. number of remaining points on the table is (number of reds remaining x 1 + number of reds  )\n"
   ]
  },
  {
   "cell_type": "code",
   "execution_count": 4,
   "metadata": {},
   "outputs": [],
   "source": [
    "import random\n",
    "def RandomNumber():\n",
    "    MyRandom = random.randint(1,6)\n",
    "    dice_thrown.configure(text=\"Dice thrown: \" + str(MyRandom))\n",
    "    print(MyRandom)"
   ]
  },
  {
   "cell_type": "code",
   "execution_count": 12,
   "metadata": {},
   "outputs": [],
   "source": [
    "def printRed():\n",
    "    print(\"You selected red\")\n",
    "\n",
    "def printYellow():\n",
    "    print(\"You selected yellow\")"
   ]
  },
  {
   "cell_type": "code",
   "execution_count": 13,
   "metadata": {},
   "outputs": [
    {
     "ename": "TclError",
     "evalue": "invalid command name \".!label2\"",
     "output_type": "error",
     "traceback": [
      "\u001b[0;31m---------------------------------------------------------------------------\u001b[0m",
      "\u001b[0;31mTclError\u001b[0m                                  Traceback (most recent call last)",
      "\u001b[0;32m<ipython-input-13-89311924edc6>\u001b[0m in \u001b[0;36m<module>\u001b[0;34m()\u001b[0m\n\u001b[0;32m----> 1\u001b[0;31m \u001b[0mRandomNumber\u001b[0m\u001b[0;34m(\u001b[0m\u001b[0;34m)\u001b[0m\u001b[0;34m\u001b[0m\u001b[0;34m\u001b[0m\u001b[0m\n\u001b[0m",
      "\u001b[0;32m<ipython-input-4-c7c8f722d0ce>\u001b[0m in \u001b[0;36mRandomNumber\u001b[0;34m()\u001b[0m\n\u001b[1;32m      2\u001b[0m \u001b[0;32mdef\u001b[0m \u001b[0mRandomNumber\u001b[0m\u001b[0;34m(\u001b[0m\u001b[0;34m)\u001b[0m\u001b[0;34m:\u001b[0m\u001b[0;34m\u001b[0m\u001b[0;34m\u001b[0m\u001b[0m\n\u001b[1;32m      3\u001b[0m     \u001b[0mMyRandom\u001b[0m \u001b[0;34m=\u001b[0m \u001b[0mrandom\u001b[0m\u001b[0;34m.\u001b[0m\u001b[0mrandint\u001b[0m\u001b[0;34m(\u001b[0m\u001b[0;36m1\u001b[0m\u001b[0;34m,\u001b[0m\u001b[0;36m6\u001b[0m\u001b[0;34m)\u001b[0m\u001b[0;34m\u001b[0m\u001b[0;34m\u001b[0m\u001b[0m\n\u001b[0;32m----> 4\u001b[0;31m     \u001b[0mdice_thrown\u001b[0m\u001b[0;34m.\u001b[0m\u001b[0mconfigure\u001b[0m\u001b[0;34m(\u001b[0m\u001b[0mtext\u001b[0m\u001b[0;34m=\u001b[0m\u001b[0;34m\"Dice thrown: \"\u001b[0m \u001b[0;34m+\u001b[0m \u001b[0mstr\u001b[0m\u001b[0;34m(\u001b[0m\u001b[0mMyRandom\u001b[0m\u001b[0;34m)\u001b[0m\u001b[0;34m)\u001b[0m\u001b[0;34m\u001b[0m\u001b[0;34m\u001b[0m\u001b[0m\n\u001b[0m\u001b[1;32m      5\u001b[0m     \u001b[0mprint\u001b[0m\u001b[0;34m(\u001b[0m\u001b[0mMyRandom\u001b[0m\u001b[0;34m)\u001b[0m\u001b[0;34m\u001b[0m\u001b[0;34m\u001b[0m\u001b[0m\n",
      "\u001b[0;32m/anaconda3/lib/python3.7/tkinter/__init__.py\u001b[0m in \u001b[0;36mconfigure\u001b[0;34m(self, cnf, **kw)\u001b[0m\n\u001b[1;32m   1483\u001b[0m         \u001b[0mthe\u001b[0m \u001b[0mallowed\u001b[0m \u001b[0mkeyword\u001b[0m \u001b[0marguments\u001b[0m \u001b[0mcall\u001b[0m \u001b[0mthe\u001b[0m \u001b[0mmethod\u001b[0m \u001b[0mkeys\u001b[0m\u001b[0;34m.\u001b[0m\u001b[0;34m\u001b[0m\u001b[0;34m\u001b[0m\u001b[0m\n\u001b[1;32m   1484\u001b[0m         \"\"\"\n\u001b[0;32m-> 1485\u001b[0;31m         \u001b[0;32mreturn\u001b[0m \u001b[0mself\u001b[0m\u001b[0;34m.\u001b[0m\u001b[0m_configure\u001b[0m\u001b[0;34m(\u001b[0m\u001b[0;34m'configure'\u001b[0m\u001b[0;34m,\u001b[0m \u001b[0mcnf\u001b[0m\u001b[0;34m,\u001b[0m \u001b[0mkw\u001b[0m\u001b[0;34m)\u001b[0m\u001b[0;34m\u001b[0m\u001b[0;34m\u001b[0m\u001b[0m\n\u001b[0m\u001b[1;32m   1486\u001b[0m     \u001b[0mconfig\u001b[0m \u001b[0;34m=\u001b[0m \u001b[0mconfigure\u001b[0m\u001b[0;34m\u001b[0m\u001b[0;34m\u001b[0m\u001b[0m\n\u001b[1;32m   1487\u001b[0m     \u001b[0;32mdef\u001b[0m \u001b[0mcget\u001b[0m\u001b[0;34m(\u001b[0m\u001b[0mself\u001b[0m\u001b[0;34m,\u001b[0m \u001b[0mkey\u001b[0m\u001b[0;34m)\u001b[0m\u001b[0;34m:\u001b[0m\u001b[0;34m\u001b[0m\u001b[0;34m\u001b[0m\u001b[0m\n",
      "\u001b[0;32m/anaconda3/lib/python3.7/tkinter/__init__.py\u001b[0m in \u001b[0;36m_configure\u001b[0;34m(self, cmd, cnf, kw)\u001b[0m\n\u001b[1;32m   1474\u001b[0m         \u001b[0;32mif\u001b[0m \u001b[0misinstance\u001b[0m\u001b[0;34m(\u001b[0m\u001b[0mcnf\u001b[0m\u001b[0;34m,\u001b[0m \u001b[0mstr\u001b[0m\u001b[0;34m)\u001b[0m\u001b[0;34m:\u001b[0m\u001b[0;34m\u001b[0m\u001b[0;34m\u001b[0m\u001b[0m\n\u001b[1;32m   1475\u001b[0m             \u001b[0;32mreturn\u001b[0m \u001b[0mself\u001b[0m\u001b[0;34m.\u001b[0m\u001b[0m_getconfigure1\u001b[0m\u001b[0;34m(\u001b[0m\u001b[0m_flatten\u001b[0m\u001b[0;34m(\u001b[0m\u001b[0;34m(\u001b[0m\u001b[0mself\u001b[0m\u001b[0;34m.\u001b[0m\u001b[0m_w\u001b[0m\u001b[0;34m,\u001b[0m \u001b[0mcmd\u001b[0m\u001b[0;34m,\u001b[0m \u001b[0;34m'-'\u001b[0m\u001b[0;34m+\u001b[0m\u001b[0mcnf\u001b[0m\u001b[0;34m)\u001b[0m\u001b[0;34m)\u001b[0m\u001b[0;34m)\u001b[0m\u001b[0;34m\u001b[0m\u001b[0;34m\u001b[0m\u001b[0m\n\u001b[0;32m-> 1476\u001b[0;31m         \u001b[0mself\u001b[0m\u001b[0;34m.\u001b[0m\u001b[0mtk\u001b[0m\u001b[0;34m.\u001b[0m\u001b[0mcall\u001b[0m\u001b[0;34m(\u001b[0m\u001b[0m_flatten\u001b[0m\u001b[0;34m(\u001b[0m\u001b[0;34m(\u001b[0m\u001b[0mself\u001b[0m\u001b[0;34m.\u001b[0m\u001b[0m_w\u001b[0m\u001b[0;34m,\u001b[0m \u001b[0mcmd\u001b[0m\u001b[0;34m)\u001b[0m\u001b[0;34m)\u001b[0m \u001b[0;34m+\u001b[0m \u001b[0mself\u001b[0m\u001b[0;34m.\u001b[0m\u001b[0m_options\u001b[0m\u001b[0;34m(\u001b[0m\u001b[0mcnf\u001b[0m\u001b[0;34m)\u001b[0m\u001b[0;34m)\u001b[0m\u001b[0;34m\u001b[0m\u001b[0;34m\u001b[0m\u001b[0m\n\u001b[0m\u001b[1;32m   1477\u001b[0m     \u001b[0;31m# These used to be defined in Widget:\u001b[0m\u001b[0;34m\u001b[0m\u001b[0;34m\u001b[0m\u001b[0;34m\u001b[0m\u001b[0m\n\u001b[1;32m   1478\u001b[0m     \u001b[0;32mdef\u001b[0m \u001b[0mconfigure\u001b[0m\u001b[0;34m(\u001b[0m\u001b[0mself\u001b[0m\u001b[0;34m,\u001b[0m \u001b[0mcnf\u001b[0m\u001b[0;34m=\u001b[0m\u001b[0;32mNone\u001b[0m\u001b[0;34m,\u001b[0m \u001b[0;34m**\u001b[0m\u001b[0mkw\u001b[0m\u001b[0;34m)\u001b[0m\u001b[0;34m:\u001b[0m\u001b[0;34m\u001b[0m\u001b[0;34m\u001b[0m\u001b[0m\n",
      "\u001b[0;31mTclError\u001b[0m: invalid command name \".!label2\""
     ]
    }
   ],
   "source": [
    "RandomNumber()"
   ]
  },
  {
   "cell_type": "code",
   "execution_count": 14,
   "metadata": {},
   "outputs": [
    {
     "name": "stdout",
     "output_type": "stream",
     "text": [
      "You selected red\n"
     ]
    },
    {
     "ename": "KeyboardInterrupt",
     "evalue": "",
     "output_type": "error",
     "traceback": [
      "\u001b[0;31m---------------------------------------------------------------------------\u001b[0m",
      "\u001b[0;31mKeyboardInterrupt\u001b[0m                         Traceback (most recent call last)",
      "\u001b[0;32m<ipython-input-14-81093441c3f7>\u001b[0m in \u001b[0;36m<module>\u001b[0;34m()\u001b[0m\n\u001b[1;32m     23\u001b[0m \u001b[0mdice_thrown\u001b[0m\u001b[0;34m.\u001b[0m\u001b[0mpack\u001b[0m\u001b[0;34m(\u001b[0m\u001b[0;34m)\u001b[0m\u001b[0;34m\u001b[0m\u001b[0;34m\u001b[0m\u001b[0m\n\u001b[1;32m     24\u001b[0m \u001b[0;34m\u001b[0m\u001b[0m\n\u001b[0;32m---> 25\u001b[0;31m \u001b[0mwindow\u001b[0m\u001b[0;34m.\u001b[0m\u001b[0mmainloop\u001b[0m\u001b[0;34m(\u001b[0m\u001b[0;34m)\u001b[0m\u001b[0;34m\u001b[0m\u001b[0;34m\u001b[0m\u001b[0m\n\u001b[0m",
      "\u001b[0;32m/anaconda3/lib/python3.7/tkinter/__init__.py\u001b[0m in \u001b[0;36mmainloop\u001b[0;34m(self, n)\u001b[0m\n\u001b[1;32m   1281\u001b[0m     \u001b[0;32mdef\u001b[0m \u001b[0mmainloop\u001b[0m\u001b[0;34m(\u001b[0m\u001b[0mself\u001b[0m\u001b[0;34m,\u001b[0m \u001b[0mn\u001b[0m\u001b[0;34m=\u001b[0m\u001b[0;36m0\u001b[0m\u001b[0;34m)\u001b[0m\u001b[0;34m:\u001b[0m\u001b[0;34m\u001b[0m\u001b[0;34m\u001b[0m\u001b[0m\n\u001b[1;32m   1282\u001b[0m         \u001b[0;34m\"\"\"Call the mainloop of Tk.\"\"\"\u001b[0m\u001b[0;34m\u001b[0m\u001b[0;34m\u001b[0m\u001b[0m\n\u001b[0;32m-> 1283\u001b[0;31m         \u001b[0mself\u001b[0m\u001b[0;34m.\u001b[0m\u001b[0mtk\u001b[0m\u001b[0;34m.\u001b[0m\u001b[0mmainloop\u001b[0m\u001b[0;34m(\u001b[0m\u001b[0mn\u001b[0m\u001b[0;34m)\u001b[0m\u001b[0;34m\u001b[0m\u001b[0;34m\u001b[0m\u001b[0m\n\u001b[0m\u001b[1;32m   1284\u001b[0m     \u001b[0;32mdef\u001b[0m \u001b[0mquit\u001b[0m\u001b[0;34m(\u001b[0m\u001b[0mself\u001b[0m\u001b[0;34m)\u001b[0m\u001b[0;34m:\u001b[0m\u001b[0;34m\u001b[0m\u001b[0;34m\u001b[0m\u001b[0m\n\u001b[1;32m   1285\u001b[0m         \u001b[0;34m\"\"\"Quit the Tcl interpreter. All widgets will be destroyed.\"\"\"\u001b[0m\u001b[0;34m\u001b[0m\u001b[0;34m\u001b[0m\u001b[0m\n",
      "\u001b[0;31mKeyboardInterrupt\u001b[0m: "
     ]
    }
   ],
   "source": [
    "import tkinter\n",
    "window = tkinter.Tk()\n",
    "\n",
    "title = tkinter.Label(window, text=\"Snooker Scorer\", font=\"Helvetica 16 bold\")\n",
    "title.pack()\n",
    "\n",
    "button1 = tkinter.Button(window, text = \"RED\", command = printRed)\n",
    "button1.pack()\n",
    "button2 = tkinter.Button(window, text = \"YELLOW\", command = printYellow)\n",
    "button2.pack()\n",
    "button3 = tkinter.Button(window, text = \"GREEN\", command = RandomNumber)\n",
    "button3.pack()\n",
    "button4 = tkinter.Button(window, text = \"BROWN\", command = RandomNumber)\n",
    "button4.pack()\n",
    "button5 = tkinter.Button(window, text = \"BLUE\", command = RandomNumber)\n",
    "button5.pack()\n",
    "button6 = tkinter.Button(window, text = \"PINK\", command = RandomNumber)\n",
    "button6.pack()\n",
    "button7 = tkinter.Button(window, text = \"BLACK\", command = RandomNumber)\n",
    "button7.pack()\n",
    "\n",
    "dice_thrown = tkinter.Label(window, font=\"Helvetica 16 bold\")\n",
    "dice_thrown.pack()\n",
    "\n",
    "window.mainloop()\n"
   ]
  },
  {
   "cell_type": "code",
   "execution_count": 12,
   "metadata": {},
   "outputs": [
    {
     "name": "stdout",
     "output_type": "stream",
     "text": [
      "3.7.2\n"
     ]
    }
   ],
   "source": [
    "from platform import python_version\n",
    "print(python_version())"
   ]
  },
  {
   "cell_type": "code",
   "execution_count": null,
   "metadata": {},
   "outputs": [],
   "source": []
  }
 ],
 "metadata": {
  "kernelspec": {
   "display_name": "Python 3",
   "language": "python",
   "name": "python3"
  }
 },
 "nbformat": 4,
 "nbformat_minor": 2
}
